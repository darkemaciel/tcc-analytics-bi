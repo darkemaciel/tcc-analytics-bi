{
 "cells": [
  {
   "cell_type": "code",
   "execution_count": 1,
   "id": "9b46a18f",
   "metadata": {},
   "outputs": [],
   "source": [
    "import pyodbc"
   ]
  },
  {
   "cell_type": "code",
   "execution_count": 2,
   "id": "7f01c644",
   "metadata": {},
   "outputs": [],
   "source": [
    "# Configurações de conexão ao SQL Server\n",
    "server_name = 'DESKTOP-JDL4GHR\\SQLEXPRESS'  # Nome do servidor SQL Server\n",
    "trusted_connection = 'yes'  # Indica autenticação do Windows\n"
   ]
  },
  {
   "cell_type": "code",
   "execution_count": 3,
   "id": "279f37c8",
   "metadata": {},
   "outputs": [
    {
     "name": "stdout",
     "output_type": "stream",
     "text": [
      "['SQL Server', 'SQL Server Native Client 11.0', 'SQL Server Native Client RDA 11.0', 'ODBC Driver 17 for SQL Server']\n"
     ]
    }
   ],
   "source": [
    "# Verificando se os drivers estão instalados\n",
    "print(pyodbc.drivers())"
   ]
  },
  {
   "cell_type": "code",
   "execution_count": 4,
   "id": "9a2717f4",
   "metadata": {},
   "outputs": [],
   "source": [
    "# String de conexão\n",
    "conn_str = f'DRIVER=SQL Server;SERVER={server_name};TRUSTED_CONNECTION={trusted_connection}'"
   ]
  },
  {
   "cell_type": "code",
   "execution_count": 5,
   "id": "8e1a5a57",
   "metadata": {},
   "outputs": [
    {
     "name": "stdout",
     "output_type": "stream",
     "text": [
      "Banco de dados 'STG' criado com sucesso!\n"
     ]
    }
   ],
   "source": [
    "# Tentar estabelecer a conexão\n",
    "try:\n",
    "    with pyodbc.connect(conn_str, autocommit=True) as connection:\n",
    "        cursor = connection.cursor()\n",
    "\n",
    "        # Verificar se o banco de dados já existe\n",
    "        if not cursor.tables(table='STG').fetchone():\n",
    "            # Comando SQL para criar o banco de dados\n",
    "            create_database_query = 'CREATE DATABASE STG'\n",
    "\n",
    "            # Executar o comando SQL\n",
    "            cursor.execute(create_database_query)\n",
    "\n",
    "            print(\"Banco de dados 'STG' criado com sucesso!\")\n",
    "        else:\n",
    "            print(\"O banco de dados 'STG' já existe.\")\n",
    "\n",
    "except pyodbc.Error as e:\n",
    "    print(f\"Erro ao criar/verificar o banco de dados: {e}\")"
   ]
  },
  {
   "cell_type": "code",
   "execution_count": 6,
   "id": "abcc3101",
   "metadata": {},
   "outputs": [
    {
     "name": "stdout",
     "output_type": "stream",
     "text": [
      "Banco de dados 'DW' criado com sucesso!\n"
     ]
    }
   ],
   "source": [
    "# Tentar estabelecer a conexão\n",
    "try:\n",
    "    with pyodbc.connect(conn_str, autocommit=True) as connection:\n",
    "        cursor = connection.cursor()\n",
    "\n",
    "        # Verificar se o banco de dados já existe\n",
    "        if not cursor.tables(table='DW').fetchone():\n",
    "            # Comando SQL para criar o banco de dados\n",
    "            create_database_query = 'CREATE DATABASE DW'\n",
    "\n",
    "            # Executar o comando SQL\n",
    "            cursor.execute(create_database_query)\n",
    "\n",
    "            print(\"Banco de dados 'DW' criado com sucesso!\")\n",
    "        else:\n",
    "            print(\"O banco de dados 'DW' já existe.\")\n",
    "\n",
    "except pyodbc.Error as e:\n",
    "    print(f\"Erro ao criar/verificar o banco de dados: {e}\")"
   ]
  },
  {
   "cell_type": "code",
   "execution_count": 7,
   "id": "8ba8b55a",
   "metadata": {},
   "outputs": [],
   "source": [
    "# Criando as tabelas dos arquivos fonte de receita e despesa em STG e a mes\n",
    "conn_str = f'DRIVER=SQL Server;SERVER={server_name};Database=STG;TRUSTED_CONNECTION={trusted_connection}'\n",
    "conn = pyodbc.connect(conn_str)\n",
    "cursor = conn.cursor()\n",
    "\n",
    "queries = [\n",
    "    \"\"\"\n",
    "    CREATE TABLE TB_STG_MES (\n",
    "                    NUM_MES_ANO NUMERIC(6) NOT NULL,\n",
    "                    NUM_MES INT NOT NULL,\n",
    "                    NOM_MES VARCHAR(25) NOT NULL,\n",
    "                    NOM_MES_ANO VARCHAR(100) NOT NULL,\n",
    "                    NOM_BIMESTRE VARCHAR(50) NOT NULL,\n",
    "                    NOM_BIMESTRE_ANO VARCHAR(100) NOT NULL,\n",
    "                    NOM_TRIMESTRE VARCHAR(50) NOT NULL,\n",
    "                    NOM_TRIMESTRE_ANO VARCHAR(100) NOT NULL,\n",
    "                    NOM_SEMESTRE VARCHAR(50) NOT NULL,\n",
    "                    NOM_SEMESTRE_ANO VARCHAR(100) NOT NULL\n",
    "    )\n",
    "    \"\"\",\n",
    "    \"\"\"\n",
    "    CREATE TABLE tb_stg_receitas (\n",
    "                    ano INT NOT NULL,\n",
    "                    mes INT NOT NULL,\n",
    "                    codigo_unidade_gestora VARCHAR(40) NOT NULL,\n",
    "                    unidade_gestora VARCHAR(40) NOT NULL,\n",
    "                    esfera_administrativa VARCHAR NOT NULL,\n",
    "                    classificacao_receita INT NOT NULL,\n",
    "                    codigo_categoria FLOAT NOT NULL,\n",
    "                    nome_categoria VARCHAR NOT NULL,\n",
    "                    codigo_origem FLOAT NOT NULL,\n",
    "                    nome_origem VARCHAR NOT NULL,\n",
    "                    codigo_especie FLOAT NOT NULL,\n",
    "                    nome_especie VARCHAR NOT NULL,\n",
    "                    codigo_alinea FLOAT NOT NULL,\n",
    "                    codigo_sub_alinea FLOAT NOT NULL,\n",
    "                    codigo_detalhamento_nivel_1 FLOAT NOT NULL,\n",
    "                    nome_detalhamento_nivel_1 VARCHAR NOT NULL,\n",
    "                    codigo_detalhamento_nivel_2 FLOAT NOT NULL,\n",
    "                    nome_detalhamento_nivel_2 VARCHAR NOT NULL,\n",
    "                    codigo_detalhamento_nivel_3 FLOAT NOT NULL,\n",
    "                    nome_detalhamento_nivel_3 VARCHAR NOT NULL,\n",
    "                    codigo_tipo_detalhamento FLOAT NOT NULL,\n",
    "                    nome_tipo_detalhamento VARCHAR NOT NULL,\n",
    "                    codigo_grupo FLOAT NOT NULL,\n",
    "                    nome_grupo VARCHAR NOT NULL,\n",
    "                    codigo_fonte_reduzida FLOAT NOT NULL,\n",
    "                    nome_fonte_reduzida VARCHAR NOT NULL,\n",
    "                    codigo_detalhamento FLOAT NOT NULL,\n",
    "                    nome_detalhamento VARCHAR NOT NULL,\n",
    "                    previsao_inicial VARCHAR NOT NULL,\n",
    "                    previsao_atualizada VARCHAR NOT NULL,\n",
    "                    arrecadada VARCHAR NOT NULL,\n",
    "                    previsao_inicial_fundeb VARCHAR NOT NULL,\n",
    "                    previsao_atualizada_fundeb VARCHAR NOT NULL,\n",
    "                    arrecadada_fundeb VARCHAR NOT NULL,\n",
    "                    data_arquivo VARCHAR NOT NULL,\n",
    "                    data_carga VARCHAR NOT NULL\n",
    "    )\n",
    "    \"\"\",\n",
    "    \"\"\"\n",
    "    CREATE TABLE tb_stg_despesas (\n",
    "                    ano INT NOT NULL,\n",
    "                    mes INT NOT NULL,\n",
    "                    codigo_unidade_gestora VARCHAR(255) NOT NULL,\n",
    "                    unidade_gestora VARCHAR(255) NOT NULL,\n",
    "                    esfera_administrativa VARCHAR(255) NOT NULL,\n",
    "                    codigo_orgao INT NOT NULL,\n",
    "                    nome_orgao VARCHAR(255),\n",
    "                    codigo_unidade_orcamentaria INT NOT NULL,\n",
    "                    nome_unidade_orcamentaria VARCHAR(255),\n",
    "                    codigo_funcao INT NOT NULL,\n",
    "                    descricao_funcao VARCHAR(255) NOT NULL,\n",
    "                    codigo_sub_funcao INT NOT NULL,\n",
    "                    descricao_sub_funcao VARCHAR(255) NOT NULL,\n",
    "                    codigo_programa INT NOT NULL,\n",
    "                    nome_programa VARCHAR(255),\n",
    "                    codigo_acao FLOAT NOT NULL,\n",
    "                    nome_acao VARCHAR(255) NOT NULL,\n",
    "                    codigo_completo INT NOT NULL,\n",
    "                    codigo_categoria INT NOT NULL,\n",
    "                    descricao_categoria VARCHAR(255) NOT NULL,\n",
    "                    codigo_grupo_natureza INT NOT NULL,\n",
    "                    descricao_grupo_natureza VARCHAR(255) NOT NULL,\n",
    "                    codigo_modalidade INT NOT NULL,\n",
    "                    descricao_modalidade VARCHAR(255) NOT NULL,\n",
    "                    codigo_elemento INT NOT NULL,\n",
    "                    descricao_elemento VARCHAR(255) NOT NULL,\n",
    "                    codigo_sub_elemento INT NOT NULL,\n",
    "                    descricao_sub_elemento VARCHAR(255) NOT NULL,\n",
    "                    codigo_grupo_fonte INT NOT NULL,\n",
    "                    nome_grupo_fonte VARCHAR(255) NOT NULL,\n",
    "                    codigo_fonte_reduzida INT NOT NULL,\n",
    "                    nome_fonte_reduzida VARCHAR(255) NOT NULL,\n",
    "                    codigo_detalhamento INT NOT NULL,\n",
    "                    nome_detalhamento VARCHAR(255) NOT NULL,\n",
    "                    previsao_inicial VARCHAR(40) NOT NULL,\n",
    "                    previsao_atualizada VARCHAR(40) NOT NULL,\n",
    "                    empenhada VARCHAR(40) NOT NULL,\n",
    "                    liquidada VARCHAR(40) NOT NULL,\n",
    "                    paga VARCHAR(40) NOT NULL,\n",
    "                    data DATETIME NOT NULL,\n",
    "                    data_carga DATETIME NOT NULL\n",
    "    )\n",
    "    \"\"\"\n",
    "]\n",
    "\n",
    "# Executar as queries\n",
    "for query in queries:\n",
    "    cursor.execute(query)\n",
    "\n",
    "# Confirmar as alterações\n",
    "conn.commit()\n",
    "\n",
    "# Fechar a conexão\n",
    "cursor.close()\n",
    "conn.close()"
   ]
  }
 ],
 "metadata": {
  "kernelspec": {
   "display_name": "Python 3 (ipykernel)",
   "language": "python",
   "name": "python3"
  },
  "language_info": {
   "codemirror_mode": {
    "name": "ipython",
    "version": 3
   },
   "file_extension": ".py",
   "mimetype": "text/x-python",
   "name": "python",
   "nbconvert_exporter": "python",
   "pygments_lexer": "ipython3",
   "version": "3.9.13"
  }
 },
 "nbformat": 4,
 "nbformat_minor": 5
}
